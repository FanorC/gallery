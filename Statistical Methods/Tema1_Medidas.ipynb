{
 "cells": [
  {
   "cell_type": "markdown",
   "metadata": {},
   "source": [
    "# Medidas de tendencia central, forma y dispersión\n",
    "\n",
    "Vamos a comenzar con las medidas de tendencia central, para ello utilizaremos la los datos que incluidos dentro del dataset __cars__ incluidos en el R base. Este dataset presenta los resultados de realizar un experimento dónde se ha medido la distancia de frenado de un vehículo, dada su velocidad.\n",
    "\n",
    "Vamos a echarle un vistazo en primer momento:"
   ]
  },
  {
   "cell_type": "code",
   "execution_count": 10,
   "metadata": {},
   "outputs": [
    {
     "name": "stderr",
     "output_type": "stream",
     "text": [
      "The following objects are masked from cars (pos = 3):\n",
      "\n",
      "    dist, speed\n",
      "\n",
      "The following objects are masked from cars (pos = 4):\n",
      "\n",
      "    dist, speed\n",
      "\n"
     ]
    }
   ],
   "source": [
    "library(ggplot2)\n",
    "library(dplyr)\n",
    "attach(cars)"
   ]
  },
  {
   "cell_type": "code",
   "execution_count": 9,
   "metadata": {},
   "outputs": [
    {
     "data": {
      "text/html": [
       "<table>\n",
       "<thead><tr><th scope=col>speed</th><th scope=col>dist</th></tr></thead>\n",
       "<tbody>\n",
       "\t<tr><td>4 </td><td> 2</td></tr>\n",
       "\t<tr><td>4 </td><td>10</td></tr>\n",
       "\t<tr><td>7 </td><td> 4</td></tr>\n",
       "\t<tr><td>7 </td><td>22</td></tr>\n",
       "\t<tr><td>8 </td><td>16</td></tr>\n",
       "\t<tr><td>9 </td><td>10</td></tr>\n",
       "</tbody>\n",
       "</table>\n"
      ],
      "text/latex": [
       "\\begin{tabular}{r|ll}\n",
       " speed & dist\\\\\n",
       "\\hline\n",
       "\t 4  &  2\\\\\n",
       "\t 4  & 10\\\\\n",
       "\t 7  &  4\\\\\n",
       "\t 7  & 22\\\\\n",
       "\t 8  & 16\\\\\n",
       "\t 9  & 10\\\\\n",
       "\\end{tabular}\n"
      ],
      "text/markdown": [
       "\n",
       "speed | dist | \n",
       "|---|---|---|---|---|---|\n",
       "| 4  |  2 | \n",
       "| 4  | 10 | \n",
       "| 7  |  4 | \n",
       "| 7  | 22 | \n",
       "| 8  | 16 | \n",
       "| 9  | 10 | \n",
       "\n",
       "\n"
      ],
      "text/plain": [
       "  speed dist\n",
       "1 4      2  \n",
       "2 4     10  \n",
       "3 7      4  \n",
       "4 7     22  \n",
       "5 8     16  \n",
       "6 9     10  "
      ]
     },
     "metadata": {},
     "output_type": "display_data"
    }
   ],
   "source": [
    "head(cars)"
   ]
  },
  {
   "cell_type": "code",
   "execution_count": 11,
   "metadata": {},
   "outputs": [
    {
     "name": "stdout",
     "output_type": "stream",
     "text": [
      "'data.frame':\t50 obs. of  2 variables:\n",
      " $ speed: num  4 4 7 7 8 9 10 10 10 11 ...\n",
      " $ dist : num  2 10 4 22 16 10 18 26 34 17 ...\n"
     ]
    }
   ],
   "source": [
    "str(cars)"
   ]
  },
  {
   "cell_type": "code",
   "execution_count": 12,
   "metadata": {},
   "outputs": [
    {
     "data": {
      "text/plain": [
       "     speed           dist       \n",
       " Min.   : 4.0   Min.   :  2.00  \n",
       " 1st Qu.:12.0   1st Qu.: 26.00  \n",
       " Median :15.0   Median : 36.00  \n",
       " Mean   :15.4   Mean   : 42.98  \n",
       " 3rd Qu.:19.0   3rd Qu.: 56.00  \n",
       " Max.   :25.0   Max.   :120.00  "
      ]
     },
     "metadata": {},
     "output_type": "display_data"
    }
   ],
   "source": [
    "summary(cars)"
   ]
  },
  {
   "cell_type": "markdown",
   "metadata": {},
   "source": [
    "Analicemos las distancias de frenado:"
   ]
  },
  {
   "cell_type": "code",
   "execution_count": 13,
   "metadata": {
    "collapsed": true
   },
   "outputs": [],
   "source": [
    "dist_frenado <- cars$dist"
   ]
  },
  {
   "cell_type": "code",
   "execution_count": 14,
   "metadata": {},
   "outputs": [
    {
     "data": {
      "image/png": "[encoded data removed]",
      "text/plain": [
       "Plot with title \"Histogram of dist_frenado\""
      ]
     },
     "metadata": {},
     "output_type": "display_data"
    }
   ],
   "source": [
    "hist(dist_frenado)"
   ]
  },
  {
   "cell_type": "markdown",
   "metadata": {},
   "source": [
    "## Medidas de tendencia central:\n",
    "\n",
    "La primera medida de tendencia central que vamos a estudiar será la _media_:"
   ]
  },
  {
   "cell_type": "code",
   "execution_count": 9,
   "metadata": {},
   "outputs": [
    {
     "data": {
      "text/html": [
       "42.98"
      ],
      "text/latex": [
       "42.98"
      ],
      "text/markdown": [
       "42.98"
      ],
      "text/plain": [
       "[1] 42.98"
      ]
     },
     "metadata": {},
     "output_type": "display_data"
    }
   ],
   "source": [
    "mean(dist_frenado)"
   ]
  },
  {
   "cell_type": "markdown",
   "metadata": {},
   "source": [
    "Hemos visto qué ocurre cuando a los valores se les suma una constante o se les multiplica, vamos a comprobarlo:"
   ]
  },
  {
   "cell_type": "code",
   "execution_count": 32,
   "metadata": {},
   "outputs": [
    {
     "data": {
      "text/html": [
       "52.98"
      ],
      "text/latex": [
       "52.98"
      ],
      "text/markdown": [
       "52.98"
      ],
      "text/plain": [
       "[1] 52.98"
      ]
     },
     "metadata": {},
     "output_type": "display_data"
    }
   ],
   "source": [
    "dist_frenado_suma <- dist_frenado + 10\n",
    "mean(dist_frenado_suma)"
   ]
  },
  {
   "cell_type": "code",
   "execution_count": 33,
   "metadata": {},
   "outputs": [
    {
     "data": {
      "text/html": [
       "429.8"
      ],
      "text/latex": [
       "429.8"
      ],
      "text/markdown": [
       "429.8"
      ],
      "text/plain": [
       "[1] 429.8"
      ]
     },
     "metadata": {},
     "output_type": "display_data"
    }
   ],
   "source": [
    "dist_frenado_prod <- dist_frenado * 10\n",
    "mean(dist_frenado_prod)"
   ]
  },
  {
   "cell_type": "markdown",
   "metadata": {},
   "source": [
    "Para seguir obteniendo información estudiamos la _mediana_:"
   ]
  },
  {
   "cell_type": "code",
   "execution_count": 10,
   "metadata": {},
   "outputs": [
    {
     "data": {
      "text/html": [
       "36"
      ],
      "text/latex": [
       "36"
      ],
      "text/markdown": [
       "36"
      ],
      "text/plain": [
       "[1] 36"
      ]
     },
     "metadata": {},
     "output_type": "display_data"
    }
   ],
   "source": [
    "median(dist_frenado)"
   ]
  },
  {
   "cell_type": "markdown",
   "metadata": {},
   "source": [
    "A partir de la diferencia entre la media y la mediana podemos empezar a obtener nuestras primeras conclusiones. "
   ]
  },
  {
   "cell_type": "markdown",
   "metadata": {},
   "source": [
    "__Ejercicio__\n",
    "\n",
    "Comprobar qué ocurre al sumar o multiplicar valroes:"
   ]
  },
  {
   "cell_type": "code",
   "execution_count": null,
   "metadata": {
    "collapsed": true
   },
   "outputs": [],
   "source": []
  },
  {
   "cell_type": "markdown",
   "metadata": {},
   "source": [
    "Hemos visto dibujando el histograma que la distribución está desplazada hacia la derecha, esto podrá ser analizado con los coeficientes de asimetría que vamos a estudiar a continuación, pero ahora mismo podemos analizar cómo el hecho de que  exista esta asimetría provoca que el valor de la media sea sensiblemente mayor que el de la mediana.\n",
    "\n",
    "Vamos a realizar una visualización en la que podamos apreciar esto mejor, utilizando ggplot2:"
   ]
  },
  {
   "cell_type": "code",
   "execution_count": 11,
   "metadata": {},
   "outputs": [
    {
     "name": "stderr",
     "output_type": "stream",
     "text": [
      "Warning message:\n",
      "\"`show_guide` has been deprecated. Please use `show.legend` instead.\"`stat_bin()` using `bins = 30`. Pick better value with `binwidth`.\n"
     ]
    },
    {
     "data": {
      "image/png": "[encoded data removed]",
      "text/plain": [
       "plot without title"
      ]
     },
     "metadata": {},
     "output_type": "display_data"
    }
   ],
   "source": [
    "p1 <- ggplot(cars, aes(dist)) + geom_histogram(aes(alpha = 1), show_guide = FALSE) \n",
    "p1"
   ]
  },
  {
   "cell_type": "code",
   "execution_count": 20,
   "metadata": {},
   "outputs": [
    {
     "name": "stderr",
     "output_type": "stream",
     "text": [
      "`stat_bin()` using `bins = 30`. Pick better value with `binwidth`.\n"
     ]
    },
    {
     "data": {
      "image/png": "[encoded data removed]",
      "text/plain": [
       "plot without title"
      ]
     },
     "metadata": {},
     "output_type": "display_data"
    }
   ],
   "source": [
    "p2 <- ggplot(aes(x = dist), data = cars) + \n",
    "  geom_histogram(color = 'green', fill = 'green', alpha = 0.2) \n",
    "p2"
   ]
  },
  {
   "cell_type": "code",
   "execution_count": 21,
   "metadata": {
    "collapsed": true
   },
   "outputs": [],
   "source": [
    "p2 <- p2 + labs(title=\"Distancias de frenado\")"
   ]
  },
  {
   "cell_type": "code",
   "execution_count": 23,
   "metadata": {},
   "outputs": [
    {
     "name": "stderr",
     "output_type": "stream",
     "text": [
      "`stat_bin()` using `bins = 30`. Pick better value with `binwidth`.\n"
     ]
    },
    {
     "data": {
      "image/png": "[encoded data removed]",
      "text/plain": [
       "plot without title"
      ]
     },
     "metadata": {},
     "output_type": "display_data"
    }
   ],
   "source": [
    "p2 <- p2 + geom_vline(aes(xintercept=median(cars$dist),\n",
    "                 color=\"mediana\"), linetype=\"dashed\",\n",
    "             size=1)\n",
    "p2"
   ]
  },
  {
   "cell_type": "code",
   "execution_count": 26,
   "metadata": {},
   "outputs": [
    {
     "name": "stderr",
     "output_type": "stream",
     "text": [
      "`stat_bin()` using `bins = 30`. Pick better value with `binwidth`.\n"
     ]
    },
    {
     "data": {
      "image/png": "[encoded data removed]",
      "text/plain": [
       "plot without title"
      ]
     },
     "metadata": {},
     "output_type": "display_data"
    }
   ],
   "source": [
    "# corregimos la leyenda:\n",
    "\n",
    "p2 + scale_color_manual(name = \"statistics\", values = c(mediana = \"blue\")) + xlab(\"Longitud\") + ylab(\"n\")"
   ]
  },
  {
   "cell_type": "markdown",
   "metadata": {},
   "source": [
    "Vamos a añadir los cuantiles y la media:"
   ]
  },
  {
   "cell_type": "code",
   "execution_count": 38,
   "metadata": {},
   "outputs": [
    {
     "name": "stderr",
     "output_type": "stream",
     "text": [
      "`stat_bin()` using `bins = 30`. Pick better value with `binwidth`.\n"
     ]
    },
    {
     "data": {
      "image/png": "[encoded data removed]",
      "text/plain": [
       "plot without title"
      ]
     },
     "metadata": {},
     "output_type": "display_data"
    }
   ],
   "source": [
    "ggplot(aes(x = dist), data = cars) + \n",
    "  geom_histogram(color = 'green', fill = 'green', alpha = 0.2) +\n",
    "  labs(title=\"Longitud del sépalo en flores iris del tipo setosa\") +\n",
    "  geom_vline(aes(xintercept=median(cars$dist),\n",
    "                 color=\"mediana\"), linetype=\"dashed\",\n",
    "             size=1) +\n",
    "  geom_vline(aes(xintercept = mean(cars$dist),\n",
    "                 color=\"media\"), linetype=\"dashed\",\n",
    "             size=1) +\n",
    "  geom_vline(aes(xintercept = quantile(cars$dist, 0.25),\n",
    "                 color=\"cuantil_25\"), linetype=\"dashed\",\n",
    "             size=1) +\n",
    "  geom_vline(aes(xintercept = quantile(cars$dist, 0.75),\n",
    "                 color=\"cuantil_75\"), linetype=\"dashed\",\n",
    "             size=1) +\n",
    "  scale_color_manual(name = \"statistics\", values = c(mediana = \"blue\", media = \"red\", cuantil_25 = \"black\", \n",
    "                                                     cuantil_75 = \"orange\"))+\n",
    "  xlab(\"Longitud\") + ylab(\"n\")\n"
   ]
  },
  {
   "cell_type": "markdown",
   "metadata": {},
   "source": [
    "Esta misma información también se puede visualizar con un boxplot"
   ]
  },
  {
   "cell_type": "code",
   "execution_count": 27,
   "metadata": {},
   "outputs": [
    {
     "data": {
      "image/png": "[encoded data removed]",
      "text/plain": [
       "plot without title"
      ]
     },
     "metadata": {},
     "output_type": "display_data"
    }
   ],
   "source": [
    "bplot <- ggplot(cars, aes(x = \"Distancia\", y = dist))\n",
    "bplot + geom_boxplot()"
   ]
  },
  {
   "cell_type": "markdown",
   "metadata": {},
   "source": [
    "La _moda_ no está implementada en el paquete básico de R, pero podemos utilizar una función creada por nosotros mismos para el cálculo de la misma:"
   ]
  },
  {
   "cell_type": "code",
   "execution_count": 47,
   "metadata": {
    "collapsed": true
   },
   "outputs": [],
   "source": [
    "moda <- function(v) {\n",
    "   uniqv <- unique(v)\n",
    "   uniqv[which.max(tabulate(match(v, uniqv)))]\n",
    "}"
   ]
  },
  {
   "cell_type": "code",
   "execution_count": 48,
   "metadata": {},
   "outputs": [
    {
     "data": {
      "text/html": [
       "26"
      ],
      "text/latex": [
       "26"
      ],
      "text/markdown": [
       "26"
      ],
      "text/plain": [
       "[1] 26"
      ]
     },
     "metadata": {},
     "output_type": "display_data"
    }
   ],
   "source": [
    "moda(dist_frenado)"
   ]
  },
  {
   "cell_type": "markdown",
   "metadata": {},
   "source": [
    "A partir de todo lo que hemos analizado podemos sacar diferentes conclusiones sobre la forma de la distribución:\n",
    "\n",
    "* Conclusión 1: gracias al histograma, y viendo que la mediana es menor que la media podemos entender que existe una cola hacia la derecha de la distribución. Esto podremos analizarlo en detalle durante con las medidas de simetría.\n",
    "* Conclusión 2: existe un _apelotonamiento_ de las medidas entre el primer cuantil y la mediana.\n",
    "* Conclusión 3: debido a todo esto no parece que estemos ante una distribución normal.\n",
    "* Conclusión 4: tenemos un dato atípico con una distancia de 120m."
   ]
  },
  {
   "cell_type": "markdown",
   "metadata": {},
   "source": [
    "## Medidas de dispersión"
   ]
  },
  {
   "cell_type": "code",
   "execution_count": 39,
   "metadata": {},
   "outputs": [
    {
     "data": {
      "text/html": [
       "664.060816326531"
      ],
      "text/latex": [
       "664.060816326531"
      ],
      "text/markdown": [
       "664.060816326531"
      ],
      "text/plain": [
       "[1] 664.0608"
      ]
     },
     "metadata": {},
     "output_type": "display_data"
    },
    {
     "data": {
      "text/html": [
       "664.060816326531"
      ],
      "text/latex": [
       "664.060816326531"
      ],
      "text/markdown": [
       "664.060816326531"
      ],
      "text/plain": [
       "[1] 664.0608"
      ]
     },
     "metadata": {},
     "output_type": "display_data"
    }
   ],
   "source": [
    "var(dist_frenado)"
   ]
  },
  {
   "cell_type": "code",
   "execution_count": 40,
   "metadata": {},
   "outputs": [
    {
     "data": {
      "text/html": [
       "664.060816326531"
      ],
      "text/latex": [
       "664.060816326531"
      ],
      "text/markdown": [
       "664.060816326531"
      ],
      "text/plain": [
       "[1] 664.0608"
      ]
     },
     "metadata": {},
     "output_type": "display_data"
    }
   ],
   "source": [
    "var(dist_frenado + 10)"
   ]
  },
  {
   "cell_type": "code",
   "execution_count": 41,
   "metadata": {},
   "outputs": [
    {
     "data": {
      "text/html": [
       "66406.0816326531"
      ],
      "text/latex": [
       "66406.0816326531"
      ],
      "text/markdown": [
       "66406.0816326531"
      ],
      "text/plain": [
       "[1] 66406.08"
      ]
     },
     "metadata": {},
     "output_type": "display_data"
    }
   ],
   "source": [
    "var(dist_frenado * 10)"
   ]
  },
  {
   "cell_type": "code",
   "execution_count": 30,
   "metadata": {},
   "outputs": [
    {
     "data": {
      "text/html": [
       "25.7693774920259"
      ],
      "text/latex": [
       "25.7693774920259"
      ],
      "text/markdown": [
       "25.7693774920259"
      ],
      "text/plain": [
       "[1] 25.76938"
      ]
     },
     "metadata": {},
     "output_type": "display_data"
    }
   ],
   "source": [
    "sd(dist_frenado)"
   ]
  },
  {
   "cell_type": "code",
   "execution_count": 43,
   "metadata": {},
   "outputs": [
    {
     "data": {
      "text/html": [
       "25.7693774920259"
      ],
      "text/latex": [
       "25.7693774920259"
      ],
      "text/markdown": [
       "25.7693774920259"
      ],
      "text/plain": [
       "[1] 25.76938"
      ]
     },
     "metadata": {},
     "output_type": "display_data"
    }
   ],
   "source": [
    "sd(dist_frenado + 10)"
   ]
  },
  {
   "cell_type": "code",
   "execution_count": 45,
   "metadata": {},
   "outputs": [
    {
     "data": {
      "text/html": [
       "128.846887460129"
      ],
      "text/latex": [
       "128.846887460129"
      ],
      "text/markdown": [
       "128.846887460129"
      ],
      "text/plain": [
       "[1] 128.8469"
      ]
     },
     "metadata": {},
     "output_type": "display_data"
    }
   ],
   "source": [
    "sd(dist_frenado * 5)"
   ]
  },
  {
   "cell_type": "markdown",
   "metadata": {},
   "source": [
    "## Medidas de forma\n",
    "\n",
    "La primera medida de forma que vamos a ver será el coeficiente de simetría, que nos dará información sobre si la distribución está centrada o si presenta colas a alguno de los dos lados:"
   ]
  },
  {
   "cell_type": "code",
   "execution_count": 52,
   "metadata": {
    "collapsed": true
   },
   "outputs": [],
   "source": [
    "# install.packages(\"e1071\")\n",
    "library(e1071)"
   ]
  },
  {
   "cell_type": "code",
   "execution_count": 205,
   "metadata": {},
   "outputs": [
    {
     "data": {
      "text/html": [
       "0.75912677852551"
      ],
      "text/latex": [
       "0.75912677852551"
      ],
      "text/markdown": [
       "0.75912677852551"
      ],
      "text/plain": [
       "[1] 0.7591268"
      ]
     },
     "metadata": {},
     "output_type": "display_data"
    }
   ],
   "source": [
    "skewness(dist_frenado)"
   ]
  },
  {
   "cell_type": "code",
   "execution_count": 54,
   "metadata": {},
   "outputs": [
    {
     "data": {
      "image/png": "[encoded data removed]",
      "text/plain": [
       "Plot with title \"Histogram of dist_frenado\""
      ]
     },
     "metadata": {},
     "output_type": "display_data"
    }
   ],
   "source": [
    "hist(dist_frenado)"
   ]
  },
  {
   "cell_type": "markdown",
   "metadata": {},
   "source": [
    "Como era de esperar, tenemos simetría > 0, lo cual nos informa de que la distribución de las distancias de frenado presenta una cola a su derecha.\n",
    "\n",
    "Por ejemplo, si analizamos la simetría para el caso de una distribución normal obtendremos valores cercanos al 0:"
   ]
  },
  {
   "cell_type": "code",
   "execution_count": 232,
   "metadata": {},
   "outputs": [
    {
     "data": {
      "text/html": [
       "-0.00121255429993181"
      ],
      "text/latex": [
       "-0.00121255429993181"
      ],
      "text/markdown": [
       "-0.00121255429993181"
      ],
      "text/plain": [
       "[1] -0.001212554"
      ]
     },
     "metadata": {},
     "output_type": "display_data"
    }
   ],
   "source": [
    "set.seed(1) # seleccionamos semilla para que el experimento sea reproducible\n",
    "variable <- rnorm(100000)\n",
    "skewness(rnorm(variable, mean = 0, sd = 0.1))"
   ]
  },
  {
   "cell_type": "code",
   "execution_count": 231,
   "metadata": {
    "scrolled": false
   },
   "outputs": [
    {
     "data": {
      "image/png": "[encoded data removed]",
      "text/plain": [
       "Plot with title \"Histogram of variable\""
      ]
     },
     "metadata": {},
     "output_type": "display_data"
    }
   ],
   "source": [
    "hist(variable)"
   ]
  },
  {
   "cell_type": "markdown",
   "metadata": {},
   "source": [
    "También podemos analizar la curtosis, para ver el apuntamiento que existe alrededos de la media:"
   ]
  },
  {
   "cell_type": "code",
   "execution_count": 55,
   "metadata": {},
   "outputs": [
    {
     "data": {
      "text/html": [
       "0.119397118346566"
      ],
      "text/latex": [
       "0.119397118346566"
      ],
      "text/markdown": [
       "0.119397118346566"
      ],
      "text/plain": [
       "[1] 0.1193971"
      ]
     },
     "metadata": {},
     "output_type": "display_data"
    }
   ],
   "source": [
    "kurtosis(dist_frenado)"
   ]
  },
  {
   "cell_type": "markdown",
   "metadata": {},
   "source": [
    "La curtosis en este caso es positiva porque sí que existe un cierto apuntamiento alredor de esta media.\n",
    "\n",
    "Podemos ver otro ejemplo dónde esto no es así:"
   ]
  },
  {
   "cell_type": "code",
   "execution_count": 236,
   "metadata": {},
   "outputs": [
    {
     "data": {
      "text/html": [
       "-1.20426786015834"
      ],
      "text/latex": [
       "-1.20426786015834"
      ],
      "text/markdown": [
       "-1.20426786015834"
      ],
      "text/plain": [
       "[1] -1.204268"
      ]
     },
     "metadata": {},
     "output_type": "display_data"
    }
   ],
   "source": [
    "set.seed(1)\n",
    "variable <- runif(100000)\n",
    "kurtosis(variable)"
   ]
  },
  {
   "cell_type": "code",
   "execution_count": 238,
   "metadata": {},
   "outputs": [
    {
     "data": {
      "image/png": "[encoded data removed]",
      "text/plain": [
       "Plot with title \"Histogram of variable\""
      ]
     },
     "metadata": {},
     "output_type": "display_data"
    }
   ],
   "source": [
    "hist(variable)"
   ]
  },
  {
   "cell_type": "markdown",
   "metadata": {},
   "source": [
    "Realizar este mismo análisis sobre la columna __speed__ del dataset __cars__."
   ]
  },
  {
   "cell_type": "markdown",
   "metadata": {},
   "source": [
    "#### Distribuciones de frecuencias:"
   ]
  },
  {
   "cell_type": "code",
   "execution_count": 239,
   "metadata": {
    "collapsed": true
   },
   "outputs": [],
   "source": [
    "X <- c(1, 2, 3, 4, 5)\n",
    "n <- c(13, 39, 9, 3, 1)\n",
    "datos <- data.frame(X, n)"
   ]
  },
  {
   "cell_type": "code",
   "execution_count": 240,
   "metadata": {},
   "outputs": [
    {
     "data": {
      "text/html": [
       "<table>\n",
       "<thead><tr><th scope=col>X</th><th scope=col>n</th></tr></thead>\n",
       "<tbody>\n",
       "\t<tr><td>1 </td><td>13</td></tr>\n",
       "\t<tr><td>2 </td><td>39</td></tr>\n",
       "\t<tr><td>3 </td><td> 9</td></tr>\n",
       "\t<tr><td>4 </td><td> 3</td></tr>\n",
       "\t<tr><td>5 </td><td> 1</td></tr>\n",
       "</tbody>\n",
       "</table>\n"
      ],
      "text/latex": [
       "\\begin{tabular}{r|ll}\n",
       " X & n\\\\\n",
       "\\hline\n",
       "\t 1  & 13\\\\\n",
       "\t 2  & 39\\\\\n",
       "\t 3  &  9\\\\\n",
       "\t 4  &  3\\\\\n",
       "\t 5  &  1\\\\\n",
       "\\end{tabular}\n"
      ],
      "text/markdown": [
       "\n",
       "| X | n |\n",
       "|---|---|\n",
       "| 1  | 13 |\n",
       "| 2  | 39 |\n",
       "| 3  |  9 |\n",
       "| 4  |  3 |\n",
       "| 5  |  1 |\n",
       "\n"
      ],
      "text/plain": [
       "  X n \n",
       "1 1 13\n",
       "2 2 39\n",
       "3 3  9\n",
       "4 4  3\n",
       "5 5  1"
      ]
     },
     "metadata": {},
     "output_type": "display_data"
    }
   ],
   "source": [
    "head(datos)"
   ]
  },
  {
   "cell_type": "markdown",
   "metadata": {},
   "source": [
    "__ejercicio:__\n",
    "\n",
    "Calcular frecuencia relativa, frecuencia absoluta acumulada y la frecuencia relativa acumulada."
   ]
  },
  {
   "cell_type": "code",
   "execution_count": null,
   "metadata": {
    "collapsed": true
   },
   "outputs": [],
   "source": []
  }
 ],
 "metadata": {
  "kernelspec": {
   "display_name": "R",
   "language": "R",
   "name": "ir"
  },
  "language_info": {
   "codemirror_mode": "r",
   "file_extension": ".r",
   "mimetype": "text/x-r-source",
   "name": "R",
   "pygments_lexer": "r",
   "version": "3.6.0"
  }
 },
 "nbformat": 4,
 "nbformat_minor": 2
}
