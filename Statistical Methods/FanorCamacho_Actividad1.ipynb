{
 "cells": [
  {
   "cell_type": "markdown",
   "metadata": {},
   "source": [
    "# Actividad 1"
   ]
  },
  {
   "cell_type": "markdown",
   "metadata": {},
   "source": [
    "### 1- Se ha realizado una encuesta a 100 familias preguntando por el número de coches que poseen, los resultados han sido los siguientes:\n",
    "\n",
    "Nº de vehículos Nº de familias\n",
    "\n",
    "1 45\n",
    "\n",
    "2 4\n",
    "\n",
    "3 15\n",
    "\n",
    "4 4\n",
    "\n",
    "5 2\n",
    "\n",
    "Introducir estos datos en un dataframe en R y añadir columnas con la frecuencia relativa, la frecuencia absoluta acumulada y la frecuencia relativa acumulada. Comentar brevemente los resultados."
   ]
  },
  {
   "cell_type": "markdown",
   "metadata": {},
   "source": []
  },
  {
   "cell_type": "code",
   "execution_count": 1,
   "metadata": {},
   "outputs": [
    {
     "data": {
      "text/html": [
       "<table>\n",
       "<thead><tr><th scope=col>nv</th><th scope=col>nf</th></tr></thead>\n",
       "<tbody>\n",
       "\t<tr><td>1 </td><td>45</td></tr>\n",
       "\t<tr><td>2 </td><td>34</td></tr>\n",
       "\t<tr><td>3 </td><td>15</td></tr>\n",
       "\t<tr><td>4 </td><td> 4</td></tr>\n",
       "\t<tr><td>5 </td><td> 2</td></tr>\n",
       "</tbody>\n",
       "</table>\n"
      ],
      "text/latex": [
       "\\begin{tabular}{r|ll}\n",
       " nv & nf\\\\\n",
       "\\hline\n",
       "\t 1  & 45\\\\\n",
       "\t 2  & 34\\\\\n",
       "\t 3  & 15\\\\\n",
       "\t 4  &  4\\\\\n",
       "\t 5  &  2\\\\\n",
       "\\end{tabular}\n"
      ],
      "text/markdown": [
       "\n",
       "| nv | nf |\n",
       "|---|---|\n",
       "| 1  | 45 |\n",
       "| 2  | 34 |\n",
       "| 3  | 15 |\n",
       "| 4  |  4 |\n",
       "| 5  |  2 |\n",
       "\n"
      ],
      "text/plain": [
       "  nv nf\n",
       "1 1  45\n",
       "2 2  34\n",
       "3 3  15\n",
       "4 4   4\n",
       "5 5   2"
      ]
     },
     "metadata": {},
     "output_type": "display_data"
    }
   ],
   "source": [
    "nv=c(1,2,3,4,5) #numero de vehiculos\n",
    "nf=c(45,34,15,4,2) #numero de familias\n",
    "df <- data.frame(nv,nf) # df is a data frame\n",
    "df "
   ]
  },
  {
   "cell_type": "markdown",
   "metadata": {},
   "source": [
    "FRECUENCIA RELATIVA"
   ]
  },
  {
   "cell_type": "code",
   "execution_count": 2,
   "metadata": {},
   "outputs": [
    {
     "data": {
      "text/html": [
       "<ol class=list-inline>\n",
       "\t<li>0.45</li>\n",
       "\t<li>0.34</li>\n",
       "\t<li>0.15</li>\n",
       "\t<li>0.04</li>\n",
       "\t<li>0.02</li>\n",
       "</ol>\n"
      ],
      "text/latex": [
       "\\begin{enumerate*}\n",
       "\\item 0.45\n",
       "\\item 0.34\n",
       "\\item 0.15\n",
       "\\item 0.04\n",
       "\\item 0.02\n",
       "\\end{enumerate*}\n"
      ],
      "text/markdown": [
       "1. 0.45\n",
       "2. 0.34\n",
       "3. 0.15\n",
       "4. 0.04\n",
       "5. 0.02\n",
       "\n",
       "\n"
      ],
      "text/plain": [
       "[1] 0.45 0.34 0.15 0.04 0.02"
      ]
     },
     "metadata": {},
     "output_type": "display_data"
    },
    {
     "ename": "ERROR",
     "evalue": "Error in `[.data.frame`(df, \"fr\"): undefined columns selected\n",
     "output_type": "error",
     "traceback": [
      "Error in `[.data.frame`(df, \"fr\"): undefined columns selected\nTraceback:\n",
      "1. df[\"fr\"]",
      "2. `[.data.frame`(df, \"fr\")",
      "3. stop(\"undefined columns selected\")"
     ]
    }
   ],
   "source": [
    "# Columnas con la frecuencia relativa\n",
    "#FR= nf/suma(nf)\n",
    "\n",
    "fr=nf/sum(df$nf) # suma de los datos de la columna numero de familias\n",
    "fr #frecuencia\n",
    "df[\"fr\"]\n",
    "#df<-data.frame(nv,nf,fr)\n",
    "df\n",
    "\n"
   ]
  },
  {
   "cell_type": "code",
   "execution_count": null,
   "metadata": {},
   "outputs": [],
   "source": [
    "Frecuencia Absoluta Acumulada"
   ]
  },
  {
   "cell_type": "code",
   "execution_count": null,
   "metadata": {},
   "outputs": [],
   "source": [
    "#la frecuencia absoluta acumulada\n",
    "#fracum= suma acumulada de nf/ suma de nf\n",
    "df[\"csnf\"]<-cumsum(df$nf)  # csnf: suma acumulada de numero de familias\n",
    "df"
   ]
  },
  {
   "cell_type": "code",
   "execution_count": null,
   "metadata": {},
   "outputs": [],
   "source": [
    "Frecuencia Relativa Acumulada"
   ]
  },
  {
   "cell_type": "code",
   "execution_count": 3,
   "metadata": {},
   "outputs": [
    {
     "data": {
      "text/html": [
       "<table>\n",
       "<thead><tr><th scope=col>nv</th><th scope=col>nf</th><th scope=col>fracum</th></tr></thead>\n",
       "<tbody>\n",
       "\t<tr><td>1   </td><td>45  </td><td>0.45</td></tr>\n",
       "\t<tr><td>2   </td><td>34  </td><td>0.79</td></tr>\n",
       "\t<tr><td>3   </td><td>15  </td><td>0.94</td></tr>\n",
       "\t<tr><td>4   </td><td> 4  </td><td>0.98</td></tr>\n",
       "\t<tr><td>5   </td><td> 2  </td><td>1.00</td></tr>\n",
       "</tbody>\n",
       "</table>\n"
      ],
      "text/latex": [
       "\\begin{tabular}{r|lll}\n",
       " nv & nf & fracum\\\\\n",
       "\\hline\n",
       "\t 1    & 45   & 0.45\\\\\n",
       "\t 2    & 34   & 0.79\\\\\n",
       "\t 3    & 15   & 0.94\\\\\n",
       "\t 4    &  4   & 0.98\\\\\n",
       "\t 5    &  2   & 1.00\\\\\n",
       "\\end{tabular}\n"
      ],
      "text/markdown": [
       "\n",
       "| nv | nf | fracum |\n",
       "|---|---|---|\n",
       "| 1    | 45   | 0.45 |\n",
       "| 2    | 34   | 0.79 |\n",
       "| 3    | 15   | 0.94 |\n",
       "| 4    |  4   | 0.98 |\n",
       "| 5    |  2   | 1.00 |\n",
       "\n"
      ],
      "text/plain": [
       "  nv nf fracum\n",
       "1 1  45 0.45  \n",
       "2 2  34 0.79  \n",
       "3 3  15 0.94  \n",
       "4 4   4 0.98  \n",
       "5 5   2 1.00  "
      ]
     },
     "metadata": {},
     "output_type": "display_data"
    }
   ],
   "source": [
    "df[\"fracum\"]<-cumsum(df$nf)/sum(df$nf) #fracum= frecuencia aboluta acumulada/suma de los datos de la columna numero de familias\n",
    "df"
   ]
  },
  {
   "cell_type": "markdown",
   "metadata": {},
   "source": [
    "En este ejercicio se observan varios comportamientos en los datos, por una parte, vemos que según la frecuencia relativa,\n",
    "vemos que es casi la mitad de la suma de la frecuencia, 0.45. esto quiere decirm que casi la mitad de las familias tienen un solo coche.\n",
    "vemos que las frecuencia relativa con la cual las familias tienen dos coches tambien es bastante alta, siendo la frecuencia relativa 0.34.\n",
    "\n",
    "podríamos afirmar tambien, según la Frecuencia acumulada, que la mayoría de las familias tienen 1,2 o 3 coches a lo sumo, dandonos esto un 0.94 de frecuencia acumulada."
   ]
  },
  {
   "cell_type": "markdown",
   "metadata": {},
   "source": [
    "### 2- Utilizando el dataset iris, sobre la columna Sepal.Width realizar un análisis incluyendo el cálculo de medidas de tendencia central, de dispersión y de forma, apoyando los resultados sobre los gráficos necesarios y comentando las deducciones realizadas."
   ]
  },
  {
   "cell_type": "code",
   "execution_count": null,
   "metadata": {},
   "outputs": [],
   "source": [
    "library(stats)\n",
    "library(dplyr)\n",
    "library(ggplot2)"
   ]
  },
  {
   "cell_type": "code",
   "execution_count": null,
   "metadata": {},
   "outputs": [],
   "source": [
    "summary(iris$Sepal.Width)"
   ]
  },
  {
   "cell_type": "code",
   "execution_count": null,
   "metadata": {},
   "outputs": [],
   "source": [
    "iris$Sepal.Width"
   ]
  },
  {
   "cell_type": "code",
   "execution_count": null,
   "metadata": {},
   "outputs": [],
   "source": [
    "dfSepal<- iris$Sepal.Width\n",
    "dfSepal"
   ]
  },
  {
   "cell_type": "markdown",
   "metadata": {},
   "source": [
    "Medidas de tendencia central"
   ]
  },
  {
   "cell_type": "code",
   "execution_count": 57,
   "metadata": {},
   "outputs": [
    {
     "name": "stdout",
     "output_type": "stream",
     "text": [
      "Media: 3.057333"
     ]
    }
   ],
   "source": [
    "#Media\n",
    "mean<-mean(dfSepal)\n",
    "cat(\"Media:\",mean)\n",
    "\n"
   ]
  },
  {
   "cell_type": "markdown",
   "metadata": {},
   "source": [
    "Mediana"
   ]
  },
  {
   "cell_type": "code",
   "execution_count": null,
   "metadata": {},
   "outputs": [],
   "source": [
    "#Mediana\n",
    "c<-median(dfSepal)\n",
    "cat(\"Mediana:\",c)"
   ]
  },
  {
   "cell_type": "code",
   "execution_count": 50,
   "metadata": {},
   "outputs": [
    {
     "data": {
      "text/html": [
       "<dl class=dl-horizontal>\n",
       "\t<dt>0%</dt>\n",
       "\t\t<dd>2</dd>\n",
       "\t<dt>25%</dt>\n",
       "\t\t<dd>2.8</dd>\n",
       "\t<dt>50%</dt>\n",
       "\t\t<dd>3</dd>\n",
       "\t<dt>75%</dt>\n",
       "\t\t<dd>3.3</dd>\n",
       "\t<dt>100%</dt>\n",
       "\t\t<dd>4.4</dd>\n",
       "</dl>\n"
      ],
      "text/latex": [
       "\\begin{description*}\n",
       "\\item[0\\textbackslash{}\\%] 2\n",
       "\\item[25\\textbackslash{}\\%] 2.8\n",
       "\\item[50\\textbackslash{}\\%] 3\n",
       "\\item[75\\textbackslash{}\\%] 3.3\n",
       "\\item[100\\textbackslash{}\\%] 4.4\n",
       "\\end{description*}\n"
      ],
      "text/markdown": [
       "0%\n",
       ":   225%\n",
       ":   2.850%\n",
       ":   375%\n",
       ":   3.3100%\n",
       ":   4.4\n",
       "\n"
      ],
      "text/plain": [
       "  0%  25%  50%  75% 100% \n",
       " 2.0  2.8  3.0  3.3  4.4 "
      ]
     },
     "metadata": {},
     "output_type": "display_data"
    }
   ],
   "source": [
    "quantile(dfSepal)"
   ]
  },
  {
   "cell_type": "markdown",
   "metadata": {},
   "source": [
    "En cuanto a la moda, R y RStudio no tienen implementada ninguna función que la calcule. Por lo que vamos a definir una función que calcule la moda de un conjunto de datos. Así, tendremos que copiar y pegar el siguiente código en el Editor de RStudio y pulsamos Run\n",
    "\n",
    "Mode <- function(x) {\n",
    "ux <- unique(x)\n",
    "ux[which.max(tabulate(match(x, ux)))]\n",
    "}\n",
    "\n",
    "Una vez hecho esto, podremos calcular la moda de un conjunto de datos tal y como sigue:\n",
    "\n",
    "Mode (x)"
   ]
  },
  {
   "cell_type": "code",
   "execution_count": 52,
   "metadata": {},
   "outputs": [
    {
     "name": "stdout",
     "output_type": "stream",
     "text": [
      "Moda: 3"
     ]
    }
   ],
   "source": [
    "moda <- function(v) {\n",
    "   uniqv <- unique(v)\n",
    "   uniqv[which.max(tabulate(match(v, uniqv)))]\n",
    "}\n",
    "m<-moda(dfSepal)\n",
    "cat(\"Moda:\", m)"
   ]
  },
  {
   "cell_type": "markdown",
   "metadata": {},
   "source": [
    "Medidas de dispersión"
   ]
  },
  {
   "cell_type": "markdown",
   "metadata": {},
   "source": [
    ". Varianza"
   ]
  },
  {
   "cell_type": "code",
   "execution_count": 53,
   "metadata": {},
   "outputs": [
    {
     "data": {
      "text/html": [
       "0.189979418344519"
      ],
      "text/latex": [
       "0.189979418344519"
      ],
      "text/markdown": [
       "0.189979418344519"
      ],
      "text/plain": [
       "[1] 0.1899794"
      ]
     },
     "metadata": {},
     "output_type": "display_data"
    }
   ],
   "source": [
    "var(dfSepal) "
   ]
  },
  {
   "cell_type": "markdown",
   "metadata": {},
   "source": [
    "Desviación típica"
   ]
  },
  {
   "cell_type": "code",
   "execution_count": 55,
   "metadata": {},
   "outputs": [
    {
     "data": {
      "text/html": [
       "0.435866284936698"
      ],
      "text/latex": [
       "0.435866284936698"
      ],
      "text/markdown": [
       "0.435866284936698"
      ],
      "text/plain": [
       "[1] 0.4358663"
      ]
     },
     "metadata": {},
     "output_type": "display_data"
    }
   ],
   "source": [
    "sd(dfSepal)"
   ]
  },
  {
   "cell_type": "markdown",
   "metadata": {},
   "source": [
    "Según estos resultados podemos concluir que la mayoria de los valores se encuentran concetrados a su valor medio, es decir a 3.057"
   ]
  },
  {
   "cell_type": "markdown",
   "metadata": {},
   "source": [
    "##Medidas de forma"
   ]
  },
  {
   "cell_type": "code",
   "execution_count": 72,
   "metadata": {},
   "outputs": [
    {
     "data": {
      "text/html": [
       "0.312614703922861"
      ],
      "text/latex": [
       "0.312614703922861"
      ],
      "text/markdown": [
       "0.312614703922861"
      ],
      "text/plain": [
       "[1] 0.3126147"
      ]
     },
     "metadata": {},
     "output_type": "display_data"
    }
   ],
   "source": [
    "#install.packages(\"e1071\")\n",
    "library(e1071)\n",
    "\n",
    "skewness(dfSepal)"
   ]
  },
  {
   "cell_type": "markdown",
   "metadata": {},
   "source": [
    "Como vemos el coeficiente de simetria es muy cercano a la media, lo cual nos indica que es una distribución simetrica y no presenta colas"
   ]
  },
  {
   "cell_type": "markdown",
   "metadata": {},
   "source": [
    "Histograma"
   ]
  },
  {
   "cell_type": "code",
   "execution_count": 60,
   "metadata": {},
   "outputs": [
    {
     "data": {
      "image/png": "[encoded data removed]",
      "text/plain": [
       "Plot with title \"Histogram of dfSepal\""
      ]
     },
     "metadata": {},
     "output_type": "display_data"
    }
   ],
   "source": [
    "hist(dfSepal)"
   ]
  },
  {
   "cell_type": "markdown",
   "metadata": {},
   "source": [
    "Kurtosis"
   ]
  },
  {
   "cell_type": "code",
   "execution_count": 73,
   "metadata": {},
   "outputs": [
    {
     "data": {
      "text/html": [
       "0.138704676680727"
      ],
      "text/latex": [
       "0.138704676680727"
      ],
      "text/markdown": [
       "0.138704676680727"
      ],
      "text/plain": [
       "[1] 0.1387047"
      ]
     },
     "metadata": {},
     "output_type": "display_data"
    }
   ],
   "source": [
    "kurtosis(dfSepal)"
   ]
  },
  {
   "cell_type": "markdown",
   "metadata": {},
   "source": [
    "según la curtosis, obtenemos un valor positivo, lo cual nos indica que la mayoria de los valores se encuentran apuntando hacia la zona media.\n"
   ]
  },
  {
   "cell_type": "markdown",
   "metadata": {},
   "source": [
    "#Para finalizar se presenta el siguiente histograma"
   ]
  },
  {
   "cell_type": "code",
   "execution_count": 76,
   "metadata": {},
   "outputs": [
    {
     "name": "stderr",
     "output_type": "stream",
     "text": [
      "`stat_bin()` using `bins = 30`. Pick better value with `binwidth`.\n"
     ]
    },
    {
     "data": {
      "image/png": "[encoded data removed]",
      "text/plain": [
       "plot without title"
      ]
     },
     "metadata": {},
     "output_type": "display_data"
    }
   ],
   "source": [
    "\n",
    "\n",
    "ggplot(aes(x = dfSepal), data = iris) + \n",
    "  geom_histogram(color = 'green', fill = 'green', alpha = 0.2) +\n",
    "  labs(title=\"Longitud del sépalo en flores iris del tipo setosa\") +\n",
    "  geom_vline(aes(xintercept=median(dfSepal),\n",
    "                 color=\"mediana\"), linetype=\"dashed\",\n",
    "             size=1) +\n",
    "  geom_vline(aes(xintercept = mean(dfSepal),\n",
    "                 color=\"media\"), linetype=\"dashed\",\n",
    "             size=1) +\n",
    "  geom_vline(aes(xintercept = quantile(dfSepal, 0.25),\n",
    "                 color=\"cuantil_25\"), linetype=\"dashed\",\n",
    "             size=1) +\n",
    "  geom_vline(aes(xintercept = quantile(dfSepal, 0.75),\n",
    "                 color=\"cuantil_75\"), linetype=\"dashed\",\n",
    "             size=1) +\n",
    "  scale_color_manual(name = \"statistics\", values = c(mediana = \"blue\", media = \"red\", cuantil_25 = \"black\", \n",
    "                                                     cuantil_75 = \"orange\"))+\n",
    "  xlab(\"Longitud\") + ylab(\"n\")"
   ]
  },
  {
   "cell_type": "code",
   "execution_count": null,
   "metadata": {},
   "outputs": [],
   "source": [
    "Se observa, que la mayoria de los valores se encuentran cercanos a la media y la mediana."
   ]
  }
 ],
 "metadata": {
  "kernelspec": {
   "display_name": "R",
   "language": "R",
   "name": "ir"
  },
  "language_info": {
   "codemirror_mode": "r",
   "file_extension": ".r",
   "mimetype": "text/x-r-source",
   "name": "R",
   "pygments_lexer": "r",
   "version": "3.6.0"
  }
 },
 "nbformat": 4,
 "nbformat_minor": 2
}
