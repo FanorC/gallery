{
 "cells": [
  {
   "cell_type": "markdown",
   "metadata": {},
   "source": [
    "### Ejercicio 1\n",
    "\n",
    "Se ha tomado una muestra de los precios de un mismo producto alimenticio en 16 comercios, elegidos al azar en un barrio de una ciudad, y se han encontrado los siguientes precios:"
   ]
  },
  {
   "cell_type": "code",
   "execution_count": 4,
   "metadata": {},
   "outputs": [],
   "source": [
    "datos <- c(95, 108, 97, 112, 99, 106, 105, 100, 99, 98, 104, 110, 107, 111, 103, 110)"
   ]
  },
  {
   "cell_type": "markdown",
   "metadata": {},
   "source": [
    "Calcular un intervalo de confianza al 95% y al 99% para esta media medio si sabemos que pertenecen a una distribución normal de varianza 25."
   ]
  },
  {
   "cell_type": "code",
   "execution_count": 5,
   "metadata": {},
   "outputs": [
    {
     "data": {
      "text/html": [
       "1.95996398454005"
      ],
      "text/latex": [
       "1.95996398454005"
      ],
      "text/markdown": [
       "1.95996398454005"
      ],
      "text/plain": [
       "[1] 1.959964"
      ]
     },
     "metadata": {},
     "output_type": "display_data"
    },
    {
     "data": {
      "text/html": [
       "101.550045019325"
      ],
      "text/latex": [
       "101.550045019325"
      ],
      "text/markdown": [
       "101.550045019325"
      ],
      "text/plain": [
       "[1] 101.55"
      ]
     },
     "metadata": {},
     "output_type": "display_data"
    },
    {
     "data": {
      "text/html": [
       "106.449954980675"
      ],
      "text/latex": [
       "106.449954980675"
      ],
      "text/markdown": [
       "106.449954980675"
      ],
      "text/plain": [
       "[1] 106.45"
      ]
     },
     "metadata": {},
     "output_type": "display_data"
    },
    {
     "data": {
      "text/html": [
       "2.5758293035489"
      ],
      "text/latex": [
       "2.5758293035489"
      ],
      "text/markdown": [
       "2.5758293035489"
      ],
      "text/plain": [
       "[1] 2.575829"
      ]
     },
     "metadata": {},
     "output_type": "display_data"
    },
    {
     "data": {
      "text/html": [
       "100.780213370564"
      ],
      "text/latex": [
       "100.780213370564"
      ],
      "text/markdown": [
       "100.780213370564"
      ],
      "text/plain": [
       "[1] 100.7802"
      ]
     },
     "metadata": {},
     "output_type": "display_data"
    },
    {
     "data": {
      "text/html": [
       "107.219786629436"
      ],
      "text/latex": [
       "107.219786629436"
      ],
      "text/markdown": [
       "107.219786629436"
      ],
      "text/plain": [
       "[1] 107.2198"
      ]
     },
     "metadata": {},
     "output_type": "display_data"
    }
   ],
   "source": [
    "media <- mean(datos)\n",
    "\n",
    "# 95%\n",
    "Z_alpha_m <- qnorm(0.975)\n",
    "Z_alpha_m\n",
    "\n",
    "media - Z_alpha_m * sqrt(25) / sqrt(16)\n",
    "media + Z_alpha_m * sqrt(25) / sqrt(16)\n",
    "\n",
    "\n",
    "# 99%\n",
    "Z_alpha_m_2 <- qnorm(0.995)\n",
    "Z_alpha_m_2\n",
    "\n",
    "media - Z_alpha_m_2 * sqrt(25) / sqrt(16)\n",
    "media + Z_alpha_m_2 * sqrt(25) / sqrt(16)"
   ]
  },
  {
   "cell_type": "markdown",
   "metadata": {},
   "source": [
    "### Ejercicio 2\n",
    "\n",
    "Los alumnos de una facultad han obtenido las siguientes notas en el expediente:"
   ]
  },
  {
   "cell_type": "code",
   "execution_count": 6,
   "metadata": {},
   "outputs": [],
   "source": [
    "notas <- c(6.7, 5, 7, 8, 6, 9, 8.5, 7, 8, 9, 4, 10, 7.5, 3, 5, 8.5)"
   ]
  },
  {
   "cell_type": "markdown",
   "metadata": {},
   "source": [
    "Calcular un intervalo de confianza al 95% y al 99% para esta media medio si sabemos que pertenecen a una distribución normal de varianza 2."
   ]
  },
  {
   "cell_type": "code",
   "execution_count": 18,
   "metadata": {},
   "outputs": [
    {
     "data": {
      "text/html": [
       "1.95996398454005"
      ],
      "text/latex": [
       "1.95996398454005"
      ],
      "text/markdown": [
       "1.95996398454005"
      ],
      "text/plain": [
       "[1] 1.959964"
      ]
     },
     "metadata": {},
     "output_type": "display_data"
    },
    {
     "data": {
      "text/html": [
       "6.31954808782516"
      ],
      "text/latex": [
       "6.31954808782516"
      ],
      "text/markdown": [
       "6.31954808782516"
      ],
      "text/plain": [
       "[1] 6.319548"
      ]
     },
     "metadata": {},
     "output_type": "display_data"
    },
    {
     "data": {
      "text/html": [
       "7.70545191217484"
      ],
      "text/latex": [
       "7.70545191217484"
      ],
      "text/markdown": [
       "7.70545191217484"
      ],
      "text/plain": [
       "[1] 7.705452"
      ]
     },
     "metadata": {},
     "output_type": "display_data"
    },
    {
     "data": {
      "text/html": [
       "2.5758293035489"
      ],
      "text/latex": [
       "2.5758293035489"
      ],
      "text/markdown": [
       "2.5758293035489"
      ],
      "text/plain": [
       "[1] 2.575829"
      ]
     },
     "metadata": {},
     "output_type": "display_data"
    },
    {
     "data": {
      "text/html": [
       "6.31954808782516"
      ],
      "text/latex": [
       "6.31954808782516"
      ],
      "text/markdown": [
       "6.31954808782516"
      ],
      "text/plain": [
       "[1] 6.319548"
      ]
     },
     "metadata": {},
     "output_type": "display_data"
    },
    {
     "data": {
      "text/html": [
       "7.70545191217484"
      ],
      "text/latex": [
       "7.70545191217484"
      ],
      "text/markdown": [
       "7.70545191217484"
      ],
      "text/plain": [
       "[1] 7.705452"
      ]
     },
     "metadata": {},
     "output_type": "display_data"
    },
    {
     "data": {
      "text/html": [
       "81.3249549806751"
      ],
      "text/latex": [
       "81.3249549806751"
      ],
      "text/markdown": [
       "81.3249549806751"
      ],
      "text/plain": [
       "[1] 81.32495"
      ]
     },
     "metadata": {},
     "output_type": "display_data"
    },
    {
     "data": {
      "text/html": [
       "76.4250450193249"
      ],
      "text/latex": [
       "76.4250450193249"
      ],
      "text/markdown": [
       "76.4250450193249"
      ],
      "text/plain": [
       "[1] 76.42505"
      ]
     },
     "metadata": {},
     "output_type": "display_data"
    },
    {
     "data": {
      "text/html": [
       "281.926243955323"
      ],
      "text/latex": [
       "281.926243955323"
      ],
      "text/markdown": [
       "281.926243955323"
      ],
      "text/plain": [
       "[1] 281.9262"
      ]
     },
     "metadata": {},
     "output_type": "display_data"
    },
    {
     "data": {
      "text/html": [
       "274.198756044677"
      ],
      "text/latex": [
       "274.198756044677"
      ],
      "text/markdown": [
       "274.198756044677"
      ],
      "text/plain": [
       "[1] 274.1988"
      ]
     },
     "metadata": {},
     "output_type": "display_data"
    }
   ],
   "source": [
    "media <- mean(notas)\n",
    "\n",
    "# 95%\n",
    "alpha <- qnorm(0.975)\n",
    "alpha\n",
    "\n",
    "media - Z_alpha_m * sqrt(2) / sqrt(16)\n",
    "media + Z_alpha_m * sqrt(2) / sqrt(16)\n",
    "\n",
    "# 99%\n",
    "alpha <- qnorm(0.995)\n",
    "alpha\n",
    "\n",
    "media - Z_alpha_m * sqrt(2) / sqrt(16)\n",
    "media + Z_alpha_m * sqrt(2) / sqrt(16)\n",
    "\n",
    "\n",
    "\n",
    "examen<-c(75,80,72,85,81,74,79,83,72,82,89,73,81, 79,83,74)\n",
    "media1<- mean(examen)\n",
    "media1 + qnorm(0.975) * sqrt(25) / sqrt(16)\n",
    "media1 - qnorm(0.975)* sqrt(25) / sqrt(16)\n",
    "\n",
    "examen1<-c(272 , 290  ,310 , 295 , 310 , 268  ,283 , 274  ,235 , 280 , 272 , 298 , 256  ,278  ,279  ,249  )\n",
    "media2<- mean(examen1)\n",
    "media2 + qnorm(0.995) * sqrt(36) / sqrt(16)\n",
    "media2 - qnorm(0.995)* sqrt(36) / sqrt(16)"
   ]
  },
  {
   "cell_type": "code",
   "execution_count": null,
   "metadata": {},
   "outputs": [],
   "source": []
  },
  {
   "cell_type": "code",
   "execution_count": null,
   "metadata": {},
   "outputs": [],
   "source": []
  }
 ],
 "metadata": {
  "kernelspec": {
   "display_name": "R",
   "language": "R",
   "name": "ir"
  },
  "language_info": {
   "codemirror_mode": "r",
   "file_extension": ".r",
   "mimetype": "text/x-r-source",
   "name": "R",
   "pygments_lexer": "r",
   "version": "3.6.0"
  }
 },
 "nbformat": 4,
 "nbformat_minor": 2
}
